{
 "cells": [
  {
   "cell_type": "markdown",
   "source": [
    "# Code Unzips the Accelerometer Data and copies to a local folder"
   ],
   "metadata": {}
  },
  {
   "cell_type": "code",
   "execution_count": 1,
   "source": [
    "from zipfile import ZipFile\r\n",
    "\r\n",
    "\r\n",
    "ZipFolder = \"D:\\\\AccelData\\\\AccelData\\\\\"\r\n",
    "#ZipFolder = \"C:\\\\Users\\\\dhendrickson\\\\Desktop\\\\temp\\\\\"\r\n",
    "CsvFolder = \"C:\\\\Users\\\\dhendrickson\\\\Desktop\\\\AccelData\\\\\""
   ],
   "outputs": [],
   "metadata": {}
  },
  {
   "cell_type": "code",
   "execution_count": 2,
   "source": [
    "files = os.listdir(ZipFolder)\r\n",
    "\r\n",
    "for Filename in files:\r\n",
    "    if Filename[-3:] == 'zip':\r\n",
    "        with ZipFile(ZipFolder+Filename, 'r') as zipObj:\r\n",
    "            #zipObj.extract(FileName[:-4]+'.csv')\r\n",
    "            FileNames = zipObj.namelist()\r\n",
    "            for CsvFile in FileNames:\r\n",
    "                zipObj.extract(CsvFile, CsvFolder)\r\n",
    "    "
   ],
   "outputs": [],
   "metadata": {}
  }
 ],
 "metadata": {
  "orig_nbformat": 4,
  "language_info": {
   "name": "python"
  }
 },
 "nbformat": 4,
 "nbformat_minor": 2
}