{
 "cells": [
  {
   "cell_type": "markdown",
   "source": [
    "# Look at accelerometer data \n",
    "\n",
    "From Jeep and Focus at various speeds over various potholes and storm drain channels."
   ],
   "metadata": {}
  },
  {
   "cell_type": "code",
   "execution_count": 1,
   "source": [
    "#Standard Header used on the projects\r\n",
    "\r\n",
    "#first the major packages used for math and graphing\r\n",
    "import numpy as np\r\n",
    "import matplotlib.pyplot as plt\r\n",
    "from cycler import cycler\r\n",
    "import scipy.special as sp\r\n",
    "import pandas as pd\r\n",
    "\r\n",
    "#Custome graph format style sheet\r\n",
    "plt.style.use('Prospectus.mplstyle')\r\n",
    "\r\n",
    "#If being run by a seperate file, use the seperate file's graph format and saving paramaeters\r\n",
    "#otherwise set what is needed\r\n",
    "if not 'Saving' in locals():\r\n",
    "    Saving = False\r\n",
    "if not 'Titles' in locals():\r\n",
    "    Titles = True\r\n",
    "if not 'Ledgends' in locals():\r\n",
    "    Ledgends = True\r\n",
    "if not 'FFormat' in locals():\r\n",
    "    FFormat = '.png'\r\n",
    "if not 'location' in locals():\r\n",
    "    #save location.  First one is for running on home PC, second for running on the work laptop.  May need to make a global change\r\n",
    "    #location = 'E:\\\\Documents\\\\Dan\\\\Code\\\\Prospectus\\\\Document\\\\Figures\\\\'\r\n",
    "    #location = 'C:\\\\Users\\\\dhendrickson\\\\Documents\\\\github\\\\FigsAndPlots\\\\FigsAndPlotsDocument\\\\Figures\\\\'\r\n",
    "    location = 'E:\\\\Documents\\\\Dan\\\\Phd\\\\Play\\\\'\r\n",
    "\r\n",
    "#Standard cycle for collors and line styles\r\n",
    "default_cycler = (cycler('color', ['0.00', '0.40', '0.60', '0.70']) + cycler(linestyle=['-', '--', ':', '-.']))\r\n",
    "plt.rc('axes', prop_cycle=default_cycler)"
   ],
   "outputs": [],
   "metadata": {}
  },
  {
   "cell_type": "code",
   "execution_count": 27,
   "source": [
    "#Extra Headers:\r\n",
    "import DWFT as fp\r\n",
    "import os as os\r\n",
    "import pywt as py\r\n",
    "import statistics as st\r\n",
    "import os as os\r\n",
    "import pandas as pd\r\n",
    "import random\r\n",
    "import multiprocessing\r\n",
    "from joblib import Parallel, delayed\r\n",
    "from pywt._extensions._pywt import (DiscreteContinuousWavelet, ContinuousWavelet,\r\n",
    "                                Wavelet, _check_dtype)\r\n",
    "from pywt._functions import integrate_wavelet, scale2frequency\r\n",
    "from time import time as ti\r\n",
    "\r\n",
    "my_cmap = plt.get_cmap('gray')"
   ],
   "outputs": [],
   "metadata": {}
  },
  {
   "cell_type": "code",
   "execution_count": 3,
   "source": [
    "#DataSet = np.genfromtxt(open('./Data/Jeep SD 10.txt','r'), delimiter=',',skip_header=4)\r\n",
    "Header = np.array(['T', 'X','Y','Z','R','Theta','Phi'])"
   ],
   "outputs": [],
   "metadata": {}
  },
  {
   "cell_type": "markdown",
   "source": [
    "fig=plt.figure(figsize=(6.67,3.75))\n",
    "plt.plot(DataSet[:,0],DataSet[:,1], label = 'X')\n",
    "plt.plot(DataSet[:,0],DataSet[:,2], label = 'Y')\n",
    "plt.plot(DataSet[:,0],DataSet[:,3], label = 'Z')\n",
    "plt.plot(DataSet[:,0],DataSet[:,4], label = 'R')\n",
    "\n",
    "title = '4 Magnitude Acceleration Curves'\n",
    "if Ledgends: plt.legend()\n",
    "if Titles: plt.title(title)\n",
    "if Saving: plt.savefig(location+title.replace(\" \", \"\").replace(\":\", \"\").replace(\",\", \"\")+FFormat)\n",
    "plt.show()"
   ],
   "metadata": {}
  },
  {
   "cell_type": "code",
   "execution_count": 4,
   "source": [
    "def PlotFingerPrint(data, xName='a', title='', FP='mexh'):\r\n",
    "    FpScat = fp.getLabeledThumbprint(data, FP)\r\n",
    "    if xName == 'a':\r\n",
    "        xName = np.arange(0,np.shape(data)[0],1)\r\n",
    "    Al,Ms  = np.meshgrid(xName,np.linspace(1,50,50))\r\n",
    "\r\n",
    "    fig1 = plt.figure(figsize=(6.67,3.75))\r\n",
    "    ax1 = plt.axes()\r\n",
    "    cs1 = ax1.contourf(Al,Ms, FpScat,cmap=my_cmap,levels=10)\r\n",
    "\r\n",
    "    if Titles: plt.title(title)\r\n",
    "    if Saving: plt.savefig(location+title.replace(\" \", \"\").replace(\":\", \"\").replace(\",\", \"\").replace(\".txt\",\"\")+FFormat)\r\n",
    "\r\n",
    "    plt.show()"
   ],
   "outputs": [],
   "metadata": {}
  },
  {
   "cell_type": "code",
   "execution_count": 6,
   "source": [
    "def PlotRunFP(dataSet, Order, Dimm, start = 0, end = 0):\r\n",
    "    \r\n",
    "    if end == 0:\r\n",
    "        end = np.shape(dataSet[Order][Dimm])[0]\r\n",
    "    \r\n",
    "    data = dataSet[Order][Dimm][Start:End]\r\n",
    "    \r\n",
    "    xName = np.arange(0,np.shape(data)[0],1)\r\n",
    "    Al,Ms  = np.meshgrid(xName,np.linspace(1,50,50))\r\n",
    "\r\n",
    "    fig1 = plt.figure(figsize=(6.67,3.75))\r\n",
    "    ax1 = plt.axes()\r\n",
    "    cs1 = ax1.contourf(Al,Ms, FpScat,cmap=my_cmap,levels=10)\r\n",
    "\r\n",
    "    if Titles: plt.title(title)\r\n",
    "    if Saving: plt.savefig(location+title.replace(\" \", \"\").replace(\":\", \"\").replace(\",\", \"\").replace(\".txt\",\"\")+FFormat)\r\n",
    "\r\n",
    "    plt.show()"
   ],
   "outputs": [],
   "metadata": {}
  },
  {
   "cell_type": "markdown",
   "source": [
    "for i in range(np.size(DataSet[0])-1):\n",
    "    PlotFingerPrint(DataSet[:,i+1],DataSet[:,0],Header[i+1])"
   ],
   "metadata": {}
  },
  {
   "cell_type": "markdown",
   "source": [
    "DataSet = np.genfromtxt(open('./Data/Jeep SD 10.txt','r'), delimiter=',',skip_header=4)\n",
    "for i in range(np.size(DataSet[0])-1):\n",
    "    PlotFingerPrint(DataSet[:,i+1],DataSet[:,0],Header[i+1])"
   ],
   "metadata": {}
  },
  {
   "cell_type": "markdown",
   "source": [
    "<!-- Directory = './Data' -->\r\n",
    "files = os.listdir(Directory)\r\n",
    "\r\n",
    "for Filename in files:\r\n",
    "    DataSet = np.genfromtxt(open(Directory+'/'+Filename,'r'), delimiter=',',skip_header=4)\r\n",
    "    fig=plt.figure(figsize=(6.67,3.75))\r\n",
    "    plt.plot(DataSet[:,0],DataSet[:,1], label = 'X')\r\n",
    "    plt.plot(DataSet[:,0],DataSet[:,2], label = 'Y')\r\n",
    "    plt.plot(DataSet[:,0],DataSet[:,3], label = 'Z')\r\n",
    "    plt.plot(DataSet[:,0],DataSet[:,4], label = 'R')\r\n",
    "\r\n",
    "    title = '4 Magnitude Acceleration Curves'\r\n",
    "    if Ledgends: plt.legend()\r\n",
    "    if Titles: plt.title(title)\r\n",
    "    if Saving: plt.savefig(location+title.replace(\" \", \"\").replace(\":\", \"\").replace(\",\", \"\")+FFormat)\r\n",
    "    plt.show()\r\n",
    "    PlotFingerPrint(DataSet[:,4],DataSet[:,0],Filename+' : '+Header[4])"
   ],
   "metadata": {}
  },
  {
   "cell_type": "markdown",
   "source": [
    "wvtOptions = []\n",
    "wvtFamilies = py.families()\n",
    "\n",
    "for family in wvtFamilies:\n",
    "    famWvt = py.wavelist(family)\n",
    "    for wvt in famWvt:\n",
    "        wvtOptions.append(wvt)"
   ],
   "metadata": {}
  },
  {
   "cell_type": "markdown",
   "source": [
    "Filename='Jeep SD 10'\n",
    "FailedWavelets = []\n",
    "DataSet = np.genfromtxt(open('./Data/'+Filename+'.txt','r'), delimiter=',',skip_header=4)\n",
    "Header = np.array(['T', 'X','Y','Z','R','Theta','Phi'])\n",
    "for wvt in wvtOptions:\n",
    "    try:\n",
    "        PlotFingerPrint(DataSet[:,4],DataSet[:,0],Filename+' : '+Header[4]+' '+wvt+' wavelet',wvt)\n",
    "    except:\n",
    "        FailedWavelets.append(wvt)\n",
    "        pass"
   ],
   "metadata": {}
  },
  {
   "cell_type": "markdown",
   "source": [
    "Directory = './Data'\n",
    "FailedWavelets = []\n",
    "\n",
    "files = os.listdir(Directory)\n",
    "wvtOptions =  np.array(['coif3','db2','fbsp'])  #gau2','cmor','coif3','db2','mexh','morl','sym2','fbsp'])\n",
    "\n",
    "for Filename in files:\n",
    "    DataSet = np.genfromtxt(open(Directory+'/'+Filename,'r'), delimiter=',',skip_header=4)\n",
    "    for wvt in wvtOptions:\n",
    "        try:\n",
    "            PlotFingerPrint(DataSet[:,4],DataSet[:,0],Filename+' : '+Header[4]+' '+wvt+' wavelet',wvt)\n",
    "        except:\n",
    "            FailedWavelets.append(wvt+Filename)\n",
    "            pass\n",
    "   "
   ],
   "metadata": {}
  },
  {
   "cell_type": "markdown",
   "source": [
    "Directory = './Data'\r\n",
    "FailedWavelets = []\r\n",
    "\r\n",
    "Results = []\r\n",
    "\r\n",
    "files = os.listdir(Directory)\r\n",
    "wvtOptions =  np.array(['coif3','db2','fbsp'])  #gau2','cmor','coif3','db2','mexh','morl','sym2','fbsp'])\r\n",
    "\r\n",
    "for Filename in files:\r\n",
    "    DataSet = np.genfromtxt(open(Directory+'/'+Filename,'r'), delimiter=',',skip_header=4)\r\n",
    "    FpScat = fp.getLabeledThumbprint(DataSet[:,4], 'db2')\r\n",
    "    Features, Image = fp.FPFeatureVector(FpScat)\r\n",
    "    Results.append([Filename,Features])"
   ],
   "metadata": {}
  },
  {
   "cell_type": "markdown",
   "source": [
    "    normHOG: bool. if True normalize HOG values by the time duration of the\n",
    "            fingerprint\n",
    "    The returned feature vector has features in this order:\n",
    "        0. semimajor axis\n",
    "        1. semiminor axis\n",
    "        2. theta (angle of orientation for ellipse)\n",
    "        3. eccentricity\n",
    "        4. degree 2 polynomial a\n",
    "        5. degree 2 polynomial b (ax^2 + bx +c)\n",
    "        6. degree 2 polynomial c\n",
    "        7. degree 4 polynomial a\n",
    "        8. degree 4 polynomial b\n",
    "        9. degree 4 polynomial c\n",
    "        10. degree 4 polynomial d (ax^4 + bx^3 + cx^2 + dx + e)\n",
    "        11. degree 4 polynomial e\n",
    "        12. HOGAngle0\n",
    "        13. HOGAngle45\n",
    "        14. HOGAngle90\n",
    "        15. HOGAngle135\n",
    "        16. wavelet scale value for FP center of mass\n",
    "        17. number of time steps for fingerprint\n",
    "        18. diameter of circle with same area as fingerprint\n",
    "        19. Extent\n",
    "        20. Area\n",
    "        21. Filled Area\n",
    "        22. Euler Number\n",
    "        23. Convex Area\n",
    "        24. Solidity\n"
   ],
   "metadata": {}
  },
  {
   "cell_type": "markdown",
   "source": [
    "Results[6][0]\r\n",
    "np.shape(Results[1][1])\r\n",
    "bob = np.matrix(Results[6][1])\r\n",
    "bob"
   ],
   "metadata": {}
  },
  {
   "cell_type": "code",
   "execution_count": 29,
   "source": [
    "# Directory = './Data'\r\n",
    "Directory = 'C:\\\\Users\\\\Hendrickson\\\\Desktop\\\\Phone Acceleration\\\\3\\\\'\r\n",
    "files = os.listdir(Directory)\r\n",
    "start = 0\r\n",
    "end = 60000\r\n",
    "\r\n",
    "size = 5000\r\n",
    "Arange = 50\r\n",
    "coord = 2\r\n",
    "for Filename in files:\r\n",
    "    DataSet = np.genfromtxt(open(Directory+'/'+Filename,'r'), delimiter=',',skip_header=4)\r\n",
    "    DataSet = DataSet[:,1:5]\r\n",
    "    length = np.shape(DataSet)[0]\r\n",
    "\r\n",
    "    results =[]\r\n",
    "\r\n",
    "    #for i in range(int(length/size)):\r\n",
    "    for i in range(3):\r\n",
    "        StdDev = np.zeros(length)\r\n",
    "        coord = i+1\r\n",
    "        for j in range(length-Arange):\r\n",
    "            k = (length-1)-j\r\n",
    "            DataSet[:,coord][k] = np.average(DataSet[:,coord][k-Arange:k])\r\n",
    "            StdDev[k]=st.stdev(DataSet[:,coord][k-Arange:k])\r\n",
    "        # fig=plt.figure(figsize=(6.67,3.75))\r\n",
    "        # plt.plot(DataSet[:,coord][start:end], label = Header[coord])\r\n",
    "        # plt.plot(StdDev,label = 'StdDev of signal')\r\n",
    " \r\n",
    "        title = Filename + ' ' + Header[coord]\r\n",
    "        # if Ledgends: plt.legend()\r\n",
    "        # if Titles: plt.title(title)\r\n",
    "        # if Saving: plt.savefig(location+title.replace(\" \", \"\").replace(\":\", \"\").replace(\",\", \"\")+FFormat)\r\n",
    "        # plt.show()\r\n",
    "        print(title,max(StdDev),max(DataSet[:,coord][start:end]))\r\n",
    "        #results.append([np.average(DataSet[:,1][i*size:(i+1)*size]), np.average(DataSet[:,2][i*size:(i+1)*size]),np.average(DataSet[:,3][i*size:(i+1)*size])])\r\n",
    "\r\n",
    "        #results = np.matrix(results)\r\n",
    "        #df = pd.DataFrame(data=results.astype('float'))\r\n",
    "        #df.to_csv('C:\\\\Users\\\\dhendrickson\\\\Desktop\\\\Phone Acceleration\\\\Gyro-output-' + Filename[10:20] + '.csv', sep=',', header=False, float_format='%.8f')\r\n",
    "        #PlotFingerPrint(DataSet[:,coord][start:end],'a',title,'coif1')"
   ],
   "outputs": [
    {
     "output_type": "stream",
     "name": "stdout",
     "text": [
      "60kAccel-210717-0928.csv X 0.02533045642893075 0.1477004\n",
      "60kAccel-210717-0928.csv Y 0.044920719866294694 0.06152\n",
      "60kAccel-210717-0928.csv Z 0.049169989438556466 -0.97241\n",
      "60kAccel-210812-0918.csv X 0.15499782162116382 0.1671186\n",
      "60kAccel-210812-0918.csv Y 0.10009997358233255 0.05688\n",
      "60kAccel-210812-0918.csv Z 0.16699163436751763 -0.9509716000000001\n",
      "60kAccel-210814-1730.csv X 0.251449687964225 0.1605038\n",
      "60kAccel-210814-1730.csv Y 0.1325536864513271 0.05541\n",
      "60kAccel-210814-1730.csv Z 0.24211872584316638 -0.9674758\n",
      "60kAccel-210815-0907.csv X 0.25216170885868183 0.30541\n",
      "60kAccel-210815-0907.csv Y 0.13652997094441072 0.13549\n",
      "60kAccel-210815-0907.csv Z 0.33001034688639935 -0.90429\n"
     ]
    }
   ],
   "metadata": {}
  },
  {
   "cell_type": "code",
   "execution_count": null,
   "source": [],
   "outputs": [],
   "metadata": {}
  },
  {
   "cell_type": "markdown",
   "source": [
    "trys = ['coif1','coif2','mexh','gaus2','dmey','gaus1','morl','cgau1','cgau2','db1','db2','sym1','sym2','sym3']\r\n",
    "\r\n",
    "start = 10000\r\n",
    "end = 12000\r\n",
    "coord = 3\r\n",
    "\r\n",
    "for id in trys:\r\n",
    "    try:\r\n",
    "        PlotFingerPrint(DataSet[:,coord][start:end],'a',id,id)\r\n",
    "    except:\r\n",
    "        print(id)"
   ],
   "metadata": {}
  },
  {
   "cell_type": "code",
   "execution_count": null,
   "source": [
    "results = np.matrix(results)\r\n",
    "df = pd.DataFrame(data=results.astype('float'))\r\n",
    "df.to_csv('C:\\\\Users\\\\dhendrickson\\\\Desktop\\\\Phone Acceleration\\\\Gyro-output.csv', sep=',', header=False, float_format='%.8f')"
   ],
   "outputs": [],
   "metadata": {}
  },
  {
   "cell_type": "code",
   "execution_count": 17,
   "source": [
    "print(DataSet[:,2][24000:26000])\r\n"
   ],
   "outputs": [
    {
     "output_type": "stream",
     "name": "stdout",
     "text": [
      "[0.04381133 0.04381133 0.04381133 ... 0.04381133 0.04381133 0.04381133]\n"
     ]
    }
   ],
   "metadata": {}
  },
  {
   "cell_type": "code",
   "execution_count": null,
   "source": [
    "def getAcceleration(FileName):\r\n",
    "    try:\r\n",
    "        DataSet = np.genfromtxt(open(folder+FileName,'r'), delimiter=',',skip_header=0)\r\n",
    "        return [[FileName,'x',DataSet[:,2]],[FileName,'y',DataSet[:,3]],[FileName,'z',DataSet[:,4]]]\r\n",
    "    except:\r\n",
    "        return [False,FileName,False]\r\n",
    "\r\n",
    "def makeStats(DataArray):\r\n",
    "    Arange = 50\r\n",
    "    length = np.shape(DataArray)[2]\r\n",
    "    StdDev = np.zeros(length)\r\n",
    "    for j in range(length-Arange):\r\n",
    "        k = (length-1)-j\r\n",
    "        DataArray[k] = np.average(DataArray[k-Arange:k])\r\n",
    "        StdDev[k]=st.stdev(DataArray[k-Arange:k])\r\n",
    "        print(title,max(StdDev),max(DataSet[:,coord][start:end]))\r\n",
    "    return [DataArray[0],DataArray[1],max(DataArray),max(StdDev)]\r\n",
    "\r\n",
    "\r\n"
   ],
   "outputs": [],
   "metadata": {}
  },
  {
   "cell_type": "code",
   "execution_count": null,
   "source": [
    "num_cores = multiprocessing.cpu_count()\r\n",
    "folder = 'C:\\\\Users\\\\Hendrickson\\\\Desktop\\\\Phone Acceleration\\\\3\\\\'\r\n",
    "files = os.listdir(folder)\r\n",
    "GroupSize = 100\r\n",
    "loops = int(float(np.size(files))/float(GroupSize))+1\r\n",
    "\r\n",
    "start = time.time()\r\n",
    "\r\n",
    "if __name__ == \"__main__\":\r\n",
    "    for i in range(loops):\r\n",
    "        AllEvents=[]\r\n",
    "        AllAccels = Parallel(n_jobs=num_cores)(delayed(getAcceleration)(file) for file in files[i*GroupSize:((i+1)*GroupSize)])\r\n",
    "        Flattened = []\r\n",
    "        for j in range(np.shape(AllAccels)[0]):\r\n",
    "            if AllAccels[j][0] == False:\r\n",
    "                print(j,AllAccels[j][1])\r\n",
    "            else: \r\n",
    "                for k in range(3):\r\n",
    "                    Flattened.append(AllAccels[j][k])\r\n",
    "        Events =  Parallel(n_jobs=num_cores)(delayed(makeStats)(datas) for datas in Flattened)\r\n",
    "        Events = np.matrix(Events)\r\n",
    "        AllEvents=np.concatenate((AllEvents,Events), axis=1)\r\n",
    "        print(str(i+1)+' of '+str(loops),'Time: '+ str(time.time()-start))\r\n",
    "    \r\n",
    "    df = pd.DataFrame(data=Events)\r\n",
    "    df.to_csv(folder + 'StatisticsReport.csv', sep=',', index = False, header=False,quotechar='\"')\r\n",
    "    "
   ],
   "outputs": [],
   "metadata": {}
  }
 ],
 "metadata": {
  "kernelspec": {
   "name": "python3",
   "display_name": "Python 3.8.10 64-bit ('base': conda)"
  },
  "language_info": {
   "codemirror_mode": {
    "name": "ipython",
    "version": 3
   },
   "file_extension": ".py",
   "mimetype": "text/x-python",
   "name": "python",
   "nbconvert_exporter": "python",
   "pygments_lexer": "ipython3",
   "version": "3.8.10"
  },
  "interpreter": {
   "hash": "b3ba2566441a7c06988d0923437866b63cedc61552a5af99d1f4fb67d367b25f"
  }
 },
 "nbformat": 4,
 "nbformat_minor": 4
}