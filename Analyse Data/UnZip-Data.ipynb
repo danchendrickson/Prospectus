{
 "cells": [
  {
   "cell_type": "markdown",
   "source": [
    "# Code Unzips the Accelerometer Data and copies to a local folder"
   ],
   "metadata": {}
  },
  {
   "cell_type": "code",
   "execution_count": 1,
   "source": [
    "from zipfile import ZipFile\r\n",
    "\r\n",
    "\r\n",
    "ZipFolder = \"D:\\\\AccelData\\\\\"\r\n",
    "#ZipFolder = \"C:\\\\Users\\\\dhendrickson\\\\Desktop\\\\New Folder\\\\\"\r\n",
    "#ZipFolder = \"C:\\\\Users\\\\dhendrickson\\\\Desktop\\\\temp\\\\\"\r\n",
    "CsvFolder = \"C:\\\\Users\\\\dhendrickson\\\\Desktop\\\\AccelData\\\\\""
   ],
   "outputs": [],
   "metadata": {}
  },
  {
   "cell_type": "code",
   "execution_count": 2,
   "source": [
    "files = os.listdir(ZipFolder)\r\n",
    "i=0\r\n",
    "for Filename in files:\r\n",
    "    if Filename[-3:] == 'zip':\r\n",
    "        try:\r\n",
    "            with ZipFile(ZipFolder+Filename, 'r') as zipObj:\r\n",
    "            #zipObj.extract(FileName[:-4]+'.csv')\r\n",
    "                FileNames = zipObj.namelist()\r\n",
    "                for CsvFile in FileNames:\r\n",
    "                    zipObj.extract(CsvFile, CsvFolder)\r\n",
    "        except:\r\n",
    "            print(Filename, i)\r\n",
    "            i+=1\r\n",
    "    "
   ],
   "outputs": [],
   "metadata": {}
  }
 ],
 "metadata": {
  "orig_nbformat": 4,
  "language_info": {
   "name": "python",
   "version": "3.8.10",
   "mimetype": "text/x-python",
   "codemirror_mode": {
    "name": "ipython",
    "version": 3
   },
   "pygments_lexer": "ipython3",
   "nbconvert_exporter": "python",
   "file_extension": ".py"
  },
  "kernelspec": {
   "name": "python3",
   "display_name": "Python 3.8.10 64-bit"
  },
  "interpreter": {
   "hash": "72674e6928aeb149b17451b3afa2eccc8eb91630257127848cb7dabc56ce48f2"
  }
 },
 "nbformat": 4,
 "nbformat_minor": 2
}