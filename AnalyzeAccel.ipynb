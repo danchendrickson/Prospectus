{
 "cells": [
  {
   "cell_type": "code",
   "execution_count": 1,
   "source": [
    "#Standard Header used on the projects\r\n",
    "\r\n",
    "#first the major packages used for math and graphing\r\n",
    "import numpy as np\r\n",
    "import matplotlib.pyplot as plt\r\n",
    "from cycler import cycler\r\n",
    "import scipy.special as sp\r\n",
    "\r\n",
    "#Custome graph format style sheet\r\n",
    "plt.style.use('Prospectus.mplstyle')\r\n",
    "\r\n",
    "#If being run by a seperate file, use the seperate file's graph format and saving paramaeters\r\n",
    "#otherwise set what is needed\r\n",
    "if not 'Saving' in locals():\r\n",
    "    Saving = False\r\n",
    "if not 'Titles' in locals():\r\n",
    "    Titles = True\r\n",
    "if not 'Ledgends' in locals():\r\n",
    "    Ledgends = True\r\n",
    "if not 'FFormat' in locals():\r\n",
    "    FFormat = '.eps'\r\n",
    "if not 'location' in locals():\r\n",
    "    #save location.  First one is for running on home PC, second for running on the work laptop.  May need to make a global change\r\n",
    "    location = 'E:\\\\Documents\\\\Dan\\\\Code\\\\FigsAndPlots\\\\FigsAndPlotsDocument\\\\Figures\\\\'\r\n",
    "    #location = 'C:\\\\Users\\\\dhendrickson\\\\Documents\\\\github\\\\FigsAndPlots\\\\FigsAndPlotsDocument\\\\Figures\\\\'\r\n",
    "\r\n",
    "\r\n",
    "#Standard cycle for collors and line styles\r\n",
    "default_cycler = (cycler('color', ['0.00', '0.40', '0.60', '0.70']) + cycler(linestyle=['-', '--', ':', '-.']))\r\n",
    "plt.rc('axes', prop_cycle=default_cycler)"
   ],
   "outputs": [],
   "metadata": {}
  },
  {
   "cell_type": "code",
   "execution_count": 2,
   "source": [
    "#Project Specific packages:\r\n",
    "import zipfile\r\n",
    "import DWFT as fp\r\n",
    "import os as os\r\n",
    "import pywt as py\r\n",
    "import pandas as pd\r\n",
    "my_cmap = plt.get_cmap('gray')"
   ],
   "outputs": [],
   "metadata": {}
  },
  {
   "cell_type": "code",
   "execution_count": 3,
   "source": [
    "def PlotFingerPrint(data, xName, title='', FP='mexh'):\r\n",
    "    \r\n",
    "    FpScat = fp.getLabeledThumbprint(data, FP)\r\n",
    "    FpScat = np.matrix(FpScat)\r\n",
    "    \r\n",
    "    Al,Ms  = np.meshgrid(xName,np.linspace(1,50,50))\r\n",
    "\r\n",
    "    fig1 = plt.figure(figsize=(6.67,3.75))\r\n",
    "    ax1 = plt.axes()\r\n",
    "    cs1 = ax1.contourf(Al,Ms, FpScat,cmap=my_cmap,levels=10)\r\n",
    "\r\n",
    "    if Titles: plt.title(title)\r\n",
    "    if Saving: plt.savefig(location+title.replace(\" \", \"\").replace(\":\", \"\").replace(\",\", \"\").replace(\".txt\",\"\")+FFormat)\r\n",
    "\r\n",
    "    plt.show()"
   ],
   "outputs": [],
   "metadata": {}
  },
  {
   "cell_type": "markdown",
   "source": [
    "Directory = \"E:\\\\Documents\\\\Dan\\\\PhD\\\\Play\\\\ASC\\\\\"\r\n",
    "files = os.listdir(Directory)\r\n",
    "Dots = 1000\r\n",
    "Start = 2615\r\n",
    "\r\n",
    "for Filename in files:\r\n",
    "    print(Filename[-3:])\r\n",
    "    if Filename[-3:] == 'csv':\r\n",
    "        Results = []\r\n",
    "        DataSet = np.genfromtxt(open(Directory+'/'+Filename,'r'), delimiter=',',skip_header=4)\r\n",
    "        #plt.plot(DataSet[:,0],DataSet[:,1], label = 'X')\r\n",
    "        #plt.plot(DataSet[:,0],DataSet[:,2], label = 'Y')\r\n",
    "        for j in range(Dots):\r\n",
    "            i = j + Start\r\n",
    "            Results.append([DataSet[i,1],np.sqrt(DataSet[i,2]**2+DataSet[i,3]**2+DataSet[i,4]**2)])\r\n",
    "        Results = np.matrix(Results)\r\n",
    "        plt.plot(Results[:,0],Results[:,1], label = 'R')\r\n",
    "\r\n",
    "        title = Filename + 'R-'\r\n",
    "        if Ledgends: plt.legend()\r\n",
    "        if Titles: plt.title(title)\r\n",
    "        if Saving: plt.savefig(location+title.replace(\" \", \"\").replace(\":\", \"\").replace(\",\", \"\")+FFormat)\r\n",
    "        plt.show()\r\n",
    "        PlotFingerPrint(np.ravel(Results[:,1]),Results[:,0],title)"
   ],
   "metadata": {}
  },
  {
   "cell_type": "code",
   "execution_count": 4,
   "source": [
    "#DataSet = np.genfromtxt(open(\"E:\\\\Documents\\\\Dan\\\\PhD\\\\Play\\\\ASC\\\\60kPoints-210709-1026.csv\",'r'), delimiter=',',skip_header=4)\r\n",
    "#DataSet = np.genfromtxt(open(\"C:\\\\Users\\\\dhendrickson\\\\Pone Drive\\\\OneDrive - The Port of Virginia\\\\Shared with Everyone\\\\60kAccel-210713-1700.csv\",'r'), delimiter=',',skip_header=4)\r\n",
    "folder = \"C:\\\\Users\\\\dhendrickson\\\\Desktop\\\\AccelData\\\\test\\\\\""
   ],
   "outputs": [],
   "metadata": {}
  },
  {
   "cell_type": "markdown",
   "source": [
    "Results = []\r\n",
    "for i in range(np.shape(DataSet)[0]):\r\n",
    "    c = DataSet[i,1]\r\n",
    "    x = DataSet[i,2]\r\n",
    "    y = DataSet[i,3]\r\n",
    "    z = DataSet[i,4]\r\n",
    "    r = np.sqrt(x**2 + y**2 + z**2)\r\n",
    "    t = np.arccos(z / r)\r\n",
    "    p = np.arctan(y / x)\r\n",
    "    Results.append([c,x,y,z,r,t,p])\r\n",
    "Results = np.matrix(Results)\r\n",
    "\r\n",
    "Names = ['Time',\r\n",
    "         'x',\r\n",
    "         'y',\r\n",
    "         'z',\r\n",
    "         'r',\r\n",
    "         'theta',\r\n",
    "         'phi']\r\n",
    "\r\n",
    "StdDev = [  np.std(Results[:,1]),\r\n",
    "            np.std(Results[:,2]),\r\n",
    "            np.std(Results[:,3]),\r\n",
    "            np.std(Results[:,4]),\r\n",
    "            np.std(Results[:,5]),\r\n",
    "            np.std(Results[:,6])]"
   ],
   "metadata": {}
  },
  {
   "cell_type": "markdown",
   "source": [
    "BlockSize = 500\r\n",
    "\r\n",
    "for i in range(int(np.shape(DataSet)[0]/BlockSize)):\r\n",
    "    Start = i * BlockSize\r\n",
    "    End = Start + BlockSize\r\n",
    "\r\n",
    "    LocalStdDev = [ np.std(Results[Start:End,1]),\r\n",
    "                    np.std(Results[Start:End,2]),\r\n",
    "                    np.std(Results[Start:End,3]),\r\n",
    "                    np.std(Results[Start:End,4]),\r\n",
    "                    np.std(Results[Start:End,5]),\r\n",
    "                    np.std(Results[Start:End,6])]\r\n",
    "    \r\n",
    "    for k in range(6):\r\n",
    "        \r\n",
    "        if np.abs((LocalStdDev[k])/StdDev[k]) > 2:\r\n",
    "            plt.plot(Results[Start:End,0],Results[Start:End,k], label = Names[k])\r\n",
    "\r\n",
    "            title = Names[k] + ' starting at step ' + str(i * BlockSize)\r\n",
    "            if Ledgends: plt.legend()\r\n",
    "            if Titles: plt.title(title)\r\n",
    "            if Saving: plt.savefig(location+title.replace(\" \", \"\").replace(\":\", \"\").replace(\",\", \"\")+FFormat)\r\n",
    "            plt.show()\r\n",
    "            PlotFingerPrint(np.ravel(Results[Start:End,k]),Results[Start:End,0],title)\r\n"
   ],
   "metadata": {}
  },
  {
   "cell_type": "code",
   "execution_count": 14,
   "source": [
    "files = os.listdir(folder)\r\n",
    "Results = []\r\n",
    "for Filename in files:\r\n",
    "    if Filename[-3:] == 'csv':\r\n",
    "         DataSet = np.genfromtxt(open(folder+Filename,'r'), delimiter=',',skip_header=4)\r\n",
    "         for i in range(3):\r\n",
    "            fprint = fp.getLabeledThumbprint(DataSet[:,i+2], 'mexh')\r\n",
    "            avgRidge = float(sum(fp.RidgeCount(fprint[:,500:59500])))/59000.0\r\n",
    "            Results.append([Filename[11:13], Filename[13:15],Filename[16:18],Filename[17:19], i+2, avgRidge ])\r\n",
    "print(Results)"
   ],
   "outputs": [
    {
     "output_type": "stream",
     "name": "stdout",
     "text": [
      "[['08', '01', '06', '61', 1, 0.01265], ['08', '01', '06', '61', 2, 0.0267], ['08', '01', '06', '61', 3, 0.7719666666666667]]\n"
     ]
    }
   ],
   "metadata": {}
  },
  {
   "cell_type": "code",
   "execution_count": 12,
   "source": [
    "df = pd.DataFrame(data=Results.astype('float'))\r\n",
    "df.to_csv(folder+'-output.csv', sep=',', header=False, float_format='%.5f')"
   ],
   "outputs": [
    {
     "output_type": "stream",
     "name": "stdout",
     "text": [
      "08\n"
     ]
    }
   ],
   "metadata": {}
  },
  {
   "cell_type": "code",
   "execution_count": 18,
   "source": [],
   "outputs": [
    {
     "output_type": "stream",
     "name": "stdout",
     "text": [
      "(50, 59000)\n"
     ]
    }
   ],
   "metadata": {}
  }
 ],
 "metadata": {
  "interpreter": {
   "hash": "72674e6928aeb149b17451b3afa2eccc8eb91630257127848cb7dabc56ce48f2"
  },
  "kernelspec": {
   "name": "python3",
   "display_name": "Python 3.8.10 64-bit ('base': conda)"
  },
  "language_info": {
   "codemirror_mode": {
    "name": "ipython",
    "version": 3
   },
   "file_extension": ".py",
   "mimetype": "text/x-python",
   "name": "python",
   "nbconvert_exporter": "python",
   "pygments_lexer": "ipython3",
   "version": "3.8.10"
  },
  "orig_nbformat": 4
 },
 "nbformat": 4,
 "nbformat_minor": 2
}