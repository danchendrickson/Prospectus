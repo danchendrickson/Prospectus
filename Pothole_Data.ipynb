{
 "cells": [
  {
   "source": [
    "# Look at accelerometer data \n",
    "\n",
    "From Jeep and Focus at various speeds over various potholes and storm drain channels."
   ],
   "cell_type": "markdown",
   "metadata": {}
  },
  {
   "cell_type": "code",
   "execution_count": null,
   "metadata": {},
   "outputs": [],
   "source": [
    "#Standard Header used on the projects\n",
    "\n",
    "#first the major packages used for math and graphing\n",
    "import numpy as np\n",
    "import matplotlib.pyplot as plt\n",
    "from cycler import cycler\n",
    "import scipy.special as sp\n",
    "import pandas as pd\n",
    "\n",
    "#Custome graph format style sheet\n",
    "plt.style.use('Prospectus.mplstyle')\n",
    "\n",
    "#If being run by a seperate file, use the seperate file's graph format and saving paramaeters\n",
    "#otherwise set what is needed\n",
    "if not 'Saving' in locals():\n",
    "    Saving = True\n",
    "if not 'Titles' in locals():\n",
    "    Titles = True\n",
    "if not 'Ledgends' in locals():\n",
    "    Ledgends = True\n",
    "if not 'FFormat' in locals():\n",
    "    FFormat = '.png'\n",
    "if not 'location' in locals():\n",
    "    #save location.  First one is for running on home PC, second for running on the work laptop.  May need to make a global change\n",
    "    #location = 'E:\\\\Documents\\\\Dan\\\\Code\\\\Prospectus\\\\Document\\\\Figures\\\\'\n",
    "    #location = 'C:\\\\Users\\\\dhendrickson\\\\Documents\\\\github\\\\FigsAndPlots\\\\FigsAndPlotsDocument\\\\Figures\\\\'\n",
    "    location = 'E:\\\\Documents\\\\Dan\\\\Phd\\\\Play\\\\'\n",
    "\n",
    "#Standard cycle for collors and line styles\n",
    "default_cycler = (cycler('color', ['0.00', '0.40', '0.60', '0.70']) + cycler(linestyle=['-', '--', ':', '-.']))\n",
    "plt.rc('axes', prop_cycle=default_cycler)"
   ]
  },
  {
   "cell_type": "code",
   "execution_count": null,
   "metadata": {},
   "outputs": [],
   "source": [
    "#Extra Headers:\n",
    "import DWFT as fp\n",
    "import os as os\n",
    "import pywt as py\n",
    "my_cmap = plt.get_cmap('gray')"
   ]
  },
  {
   "cell_type": "code",
   "execution_count": null,
   "metadata": {},
   "outputs": [],
   "source": [
    "DataSet = np.genfromtxt(open('./Data/Jeep SD 10 A mode.txt','r'), delimiter=',',skip_header=4)\n",
    "Header = np.array(['T', 'X','Y','Z','R','Theta','Phi'])"
   ]
  },
  {
   "cell_type": "code",
   "execution_count": null,
   "metadata": {},
   "outputs": [],
   "source": [
    "fig=plt.figure()\n",
    "plt.plot(DataSet[:,0],DataSet[:,4])\n",
    "plt.show()"
   ]
  },
  {
   "cell_type": "code",
   "execution_count": null,
   "metadata": {},
   "outputs": [],
   "source": [
    "def PlotFingerPrint(data, xName, title='', FP='mexh'):\n",
    "    FpScat = fp.getLabeledThumbprint(data, FP)\n",
    "\n",
    "    Al,Ms  = np.meshgrid(xName,np.linspace(1,50,50))\n",
    "\n",
    "    fig1 = plt.figure(figsize=(5.0,2.0))\n",
    "    ax1 = plt.axes()\n",
    "    cs1 = ax1.contourf(Al,Ms, FpScat,cmap=my_cmap,levels=10)\n",
    "\n",
    "    if Titles: plt.title(title)\n",
    "    if Saving: plt.savefig(location+title.replace(\" \", \"\").replace(\":\", \"\").replace(\",\", \"\")+FFormat)\n",
    "\n",
    "    plt.show()"
   ]
  },
  {
   "cell_type": "code",
   "execution_count": null,
   "metadata": {},
   "outputs": [],
   "source": [
    "for i in range(np.size(DataSet[0])-1):\n",
    "    PlotFingerPrint(DataSet[:,i+1],DataSet[:,0],Header[i+1])"
   ]
  },
  {
   "cell_type": "code",
   "execution_count": null,
   "metadata": {},
   "outputs": [],
   "source": [
    "DataSet = np.genfromtxt(open('./Data/Focus SD 10 A mode.txt','r'), delimiter=',',skip_header=4)\n",
    "for i in range(np.size(DataSet[0])-1):\n",
    "    PlotFingerPrint(DataSet[:,i+1],DataSet[:,0],Header[i+1])"
   ]
  },
  {
   "cell_type": "code",
   "execution_count": null,
   "metadata": {},
   "outputs": [],
   "source": [
    "Directory = './Data'\n",
    "files = os.listdir(Directory)\n",
    "\n",
    "for Filename in files:\n",
    "    DataSet = np.genfromtxt(open(Directory+'/'+Filename,'r'), delimiter=',',skip_header=4)\n",
    "    PlotFingerPrint(DataSet[:,4],DataSet[:,0],Filename+' : '+Header[4])"
   ]
  },
  {
   "cell_type": "code",
   "execution_count": null,
   "metadata": {},
   "outputs": [],
   "source": [
    "wvtOptions = []\n",
    "wvtFamilies = py.families()\n",
    "\n",
    "for family in wvtFamilies:\n",
    "    famWvt = py.wavelist(family)\n",
    "    for wvt in famWvt:\n",
    "        wvtOptions.append(wvt)"
   ]
  },
  {
   "cell_type": "code",
   "execution_count": null,
   "metadata": {},
   "outputs": [],
   "source": [
    "DataSet = np.genfromtxt(open('./Data/Jeep SD 10 A mode.txt','r'), delimiter=',',skip_header=4)\n",
    "Header = np.array(['T', 'X','Y','Z','R','Theta','Phi'])\n",
    "for wvt in wvtOptions:\n",
    "    try:\n",
    "        PlotFingerPrint(DataSet[:,4],DataSet[:,0],Filename+' : '+Header[4]+' '+wvt+' wavelet',wvt)\n",
    "    except:\n",
    "        pass"
   ]
  },
  {
   "cell_type": "code",
   "execution_count": null,
   "metadata": {},
   "outputs": [],
   "source": []
  }
 ],
 "metadata": {
  "kernelspec": {
   "name": "python383jvsc74a57bd0b3ba2566441a7c06988d0923437866b63cedc61552a5af99d1f4fb67d367b25f",
   "display_name": "Python 3.8.3 64-bit ('base': conda)"
  },
  "language_info": {
   "codemirror_mode": {
    "name": "ipython",
    "version": 3
   },
   "file_extension": ".py",
   "mimetype": "text/x-python",
   "name": "python",
   "nbconvert_exporter": "python",
   "pygments_lexer": "ipython3",
   "version": "3.8.3"
  }
 },
 "nbformat": 4,
 "nbformat_minor": 4
}