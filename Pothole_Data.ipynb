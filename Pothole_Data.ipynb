{
 "cells": [
  {
   "source": [
    "# Look at accelerometer data \n",
    "\n",
    "From Jeep and Focus at various speeds over various potholes and storm drain channels."
   ],
   "cell_type": "markdown",
   "metadata": {}
  },
  {
   "cell_type": "code",
   "execution_count": 70,
   "metadata": {},
   "outputs": [],
   "source": [
    "#Standard Header used on the projects\n",
    "\n",
    "#first the major packages used for math and graphing\n",
    "import numpy as np\n",
    "import matplotlib.pyplot as plt\n",
    "from cycler import cycler\n",
    "import scipy.special as sp\n",
    "import pandas as pd\n",
    "\n",
    "#Custome graph format style sheet\n",
    "plt.style.use('Prospectus.mplstyle')\n",
    "\n",
    "#If being run by a seperate file, use the seperate file's graph format and saving paramaeters\n",
    "#otherwise set what is needed\n",
    "if not 'Saving' in locals():\n",
    "    Saving = True\n",
    "if not 'Titles' in locals():\n",
    "    Titles = True\n",
    "if not 'Ledgends' in locals():\n",
    "    Ledgends = True\n",
    "if not 'FFormat' in locals():\n",
    "    FFormat = '.png'\n",
    "if not 'location' in locals():\n",
    "    #save location.  First one is for running on home PC, second for running on the work laptop.  May need to make a global change\n",
    "    #location = 'E:\\\\Documents\\\\Dan\\\\Code\\\\Prospectus\\\\Document\\\\Figures\\\\'\n",
    "    #location = 'C:\\\\Users\\\\dhendrickson\\\\Documents\\\\github\\\\FigsAndPlots\\\\FigsAndPlotsDocument\\\\Figures\\\\'\n",
    "    location = 'E:\\\\Documents\\\\Dan\\\\Phd\\\\Play\\\\'\n",
    "\n",
    "#Standard cycle for collors and line styles\n",
    "default_cycler = (cycler('color', ['0.00', '0.40', '0.60', '0.70']) + cycler(linestyle=['-', '--', ':', '-.']))\n",
    "plt.rc('axes', prop_cycle=default_cycler)"
   ]
  },
  {
   "cell_type": "code",
   "execution_count": 71,
   "metadata": {},
   "outputs": [],
   "source": [
    "#Extra Headers:\n",
    "import DWFT as fp\n",
    "import os as os\n",
    "import pywt as py\n",
    "my_cmap = plt.get_cmap('gray')"
   ]
  },
  {
   "cell_type": "code",
   "execution_count": 72,
   "metadata": {},
   "outputs": [],
   "source": [
    "DataSet = np.genfromtxt(open('./Data/Jeep SD 10.txt','r'), delimiter=',',skip_header=4)\n",
    "Header = np.array(['T', 'X','Y','Z','R','Theta','Phi'])"
   ]
  },
  {
   "source": [
    "fig=plt.figure(figsize=(6.67,3.75))\n",
    "plt.plot(DataSet[:,0],DataSet[:,1], label = 'X')\n",
    "plt.plot(DataSet[:,0],DataSet[:,2], label = 'Y')\n",
    "plt.plot(DataSet[:,0],DataSet[:,3], label = 'Z')\n",
    "plt.plot(DataSet[:,0],DataSet[:,4], label = 'R')\n",
    "\n",
    "title = '4 Magnitude Acceleration Curves'\n",
    "if Ledgends: plt.legend()\n",
    "if Titles: plt.title(title)\n",
    "if Saving: plt.savefig(location+title.replace(\" \", \"\").replace(\":\", \"\").replace(\",\", \"\")+FFormat)\n",
    "plt.show()"
   ],
   "cell_type": "markdown",
   "metadata": {}
  },
  {
   "cell_type": "code",
   "execution_count": 73,
   "metadata": {},
   "outputs": [],
   "source": [
    "def PlotFingerPrint(data, xName, title='', FP='mexh'):\n",
    "    FpScat = fp.getLabeledThumbprint(data, FP)\n",
    "\n",
    "    Al,Ms  = np.meshgrid(xName,np.linspace(1,50,50))\n",
    "\n",
    "    fig1 = plt.figure(figsize=(6.67,3.75))\n",
    "    ax1 = plt.axes()\n",
    "    cs1 = ax1.contourf(Al,Ms, FpScat,cmap=my_cmap,levels=10)\n",
    "\n",
    "    if Titles: plt.title(title)\n",
    "    if Saving: plt.savefig(location+title.replace(\" \", \"\").replace(\":\", \"\").replace(\",\", \"\").replace(\".txt\",\"\")+FFormat)\n",
    "\n",
    "    plt.show()"
   ]
  },
  {
   "source": [
    "for i in range(np.size(DataSet[0])-1):\n",
    "    PlotFingerPrint(DataSet[:,i+1],DataSet[:,0],Header[i+1])"
   ],
   "cell_type": "markdown",
   "metadata": {}
  },
  {
   "source": [
    "DataSet = np.genfromtxt(open('./Data/Jeep SD 10.txt','r'), delimiter=',',skip_header=4)\n",
    "for i in range(np.size(DataSet[0])-1):\n",
    "    PlotFingerPrint(DataSet[:,i+1],DataSet[:,0],Header[i+1])"
   ],
   "cell_type": "markdown",
   "metadata": {}
  },
  {
   "source": [
    "Directory = './Data'\n",
    "files = os.listdir(Directory)\n",
    "\n",
    "for Filename in files:\n",
    "    DataSet = np.genfromtxt(open(Directory+'/'+Filename,'r'), delimiter=',',skip_header=4)\n",
    "    PlotFingerPrint(DataSet[:,4],DataSet[:,0],Filename+' : '+Header[4])"
   ],
   "cell_type": "markdown",
   "metadata": {}
  },
  {
   "source": [
    "wvtOptions = []\n",
    "wvtFamilies = py.families()\n",
    "\n",
    "for family in wvtFamilies:\n",
    "    famWvt = py.wavelist(family)\n",
    "    for wvt in famWvt:\n",
    "        wvtOptions.append(wvt)"
   ],
   "cell_type": "markdown",
   "metadata": {}
  },
  {
   "source": [
    "Filename='Jeep SD 10'\n",
    "FailedWavelets = []\n",
    "DataSet = np.genfromtxt(open('./Data/'+Filename+'.txt','r'), delimiter=',',skip_header=4)\n",
    "Header = np.array(['T', 'X','Y','Z','R','Theta','Phi'])\n",
    "for wvt in wvtOptions:\n",
    "    try:\n",
    "        PlotFingerPrint(DataSet[:,4],DataSet[:,0],Filename+' : '+Header[4]+' '+wvt+' wavelet',wvt)\n",
    "    except:\n",
    "        FailedWavelets.append(wvt)\n",
    "        pass"
   ],
   "cell_type": "markdown",
   "metadata": {}
  },
  {
   "source": [
    "Directory = './Data'\n",
    "FailedWavelets = []\n",
    "\n",
    "files = os.listdir(Directory)\n",
    "wvtOptions =  np.array(['coif3','db2','fbsp'])  #gau2','cmor','coif3','db2','mexh','morl','sym2','fbsp'])\n",
    "\n",
    "for Filename in files:\n",
    "    DataSet = np.genfromtxt(open(Directory+'/'+Filename,'r'), delimiter=',',skip_header=4)\n",
    "    for wvt in wvtOptions:\n",
    "        try:\n",
    "            PlotFingerPrint(DataSet[:,4],DataSet[:,0],Filename+' : '+Header[4]+' '+wvt+' wavelet',wvt)\n",
    "        except:\n",
    "            FailedWavelets.append(wvt+Filename)\n",
    "            pass\n",
    "   "
   ],
   "cell_type": "markdown",
   "metadata": {}
  },
  {
   "cell_type": "code",
   "execution_count": 74,
   "metadata": {},
   "outputs": [],
   "source": [
    "Directory = './Data'\n",
    "FailedWavelets = []\n",
    "\n",
    "Results = []\n",
    "\n",
    "files = os.listdir(Directory)\n",
    "wvtOptions =  np.array(['coif3','db2','fbsp'])  #gau2','cmor','coif3','db2','mexh','morl','sym2','fbsp'])\n",
    "\n",
    "for Filename in files:\n",
    "    DataSet = np.genfromtxt(open(Directory+'/'+Filename,'r'), delimiter=',',skip_header=4)\n",
    "    FpScat = fp.getLabeledThumbprint(DataSet[:,4], 'db2')\n",
    "    Features, Image = fp.FPFeatureVector(FpScat)\n",
    "    Results.append([Filename,Features])"
   ]
  },
  {
   "source": [
    "    normHOG: bool. if True normalize HOG values by the time duration of the\n",
    "            fingerprint\n",
    "    The returned feature vector has features in this order:\n",
    "        0. semimajor axis\n",
    "        1. semiminor axis\n",
    "        2. theta (angle of orientation for ellipse)\n",
    "        3. eccentricity\n",
    "        4. degree 2 polynomial a\n",
    "        5. degree 2 polynomial b (ax^2 + bx +c)\n",
    "        6. degree 2 polynomial c\n",
    "        7. degree 4 polynomial a\n",
    "        8. degree 4 polynomial b\n",
    "        9. degree 4 polynomial c\n",
    "        10. degree 4 polynomial d (ax^4 + bx^3 + cx^2 + dx + e)\n",
    "        11. degree 4 polynomial e\n",
    "        12. HOGAngle0\n",
    "        13. HOGAngle45\n",
    "        14. HOGAngle90\n",
    "        15. HOGAngle135\n",
    "        16. wavelet scale value for FP center of mass\n",
    "        17. number of time steps for fingerprint\n",
    "        18. diameter of circle with same area as fingerprint\n",
    "        19. Extent\n",
    "        20. Area\n",
    "        21. Filled Area\n",
    "        22. Euler Number\n",
    "        23. Convex Area\n",
    "        24. Solidity\n"
   ],
   "cell_type": "markdown",
   "metadata": {}
  },
  {
   "cell_type": "code",
   "execution_count": 97,
   "metadata": {},
   "outputs": [
    {
     "output_type": "execute_result",
     "data": {
      "text/plain": [
       "'Jeep SD 20.txt'"
      ]
     },
     "metadata": {},
     "execution_count": 97
    }
   ],
   "source": [
    "Results[6][0]"
   ]
  },
  {
   "cell_type": "code",
   "execution_count": 76,
   "metadata": {},
   "outputs": [
    {
     "output_type": "execute_result",
     "data": {
      "text/plain": [
       "(25,)"
      ]
     },
     "metadata": {},
     "execution_count": 76
    }
   ],
   "source": [
    "np.shape(Results[1][1])"
   ]
  },
  {
   "cell_type": "code",
   "execution_count": 98,
   "metadata": {},
   "outputs": [],
   "source": [
    "bob = np.matrix(Results[6][1])"
   ]
  },
  {
   "cell_type": "code",
   "execution_count": 99,
   "metadata": {},
   "outputs": [
    {
     "output_type": "execute_result",
     "data": {
      "text/plain": [
       "matrix([[ 3.07224577e+01,  1.38386989e+01,  7.04905663e-01,\n",
       "          8.92805469e-01, -1.72302725e-03,  8.71956136e-01,\n",
       "          3.88048435e+00, -6.18090168e-07,  4.70426109e-05,\n",
       "         -1.35155506e-03,  8.52151197e-01,  3.85445040e+00,\n",
       "          4.66037736e+00,  2.98852677e+00,  2.20754717e+00,\n",
       "          4.29600724e+00,  3.33599398e+01,  5.30000000e+01,\n",
       "          2.90762972e+01,  2.56172840e-01,  6.64000000e+02,\n",
       "          9.38000000e+02,  1.00000000e+00,  1.09700000e+03,\n",
       "          6.05287147e-01]])"
      ]
     },
     "metadata": {},
     "execution_count": 99
    }
   ],
   "source": [
    "bob"
   ]
  },
  {
   "cell_type": "code",
   "execution_count": null,
   "metadata": {},
   "outputs": [],
   "source": []
  }
 ],
 "metadata": {
  "kernelspec": {
   "name": "python383jvsc74a57bd0b3ba2566441a7c06988d0923437866b63cedc61552a5af99d1f4fb67d367b25f",
   "display_name": "Python 3.8.3 64-bit ('base': conda)"
  },
  "language_info": {
   "codemirror_mode": {
    "name": "ipython",
    "version": 3
   },
   "file_extension": ".py",
   "mimetype": "text/x-python",
   "name": "python",
   "nbconvert_exporter": "python",
   "pygments_lexer": "ipython3",
   "version": "3.8.3"
  }
 },
 "nbformat": 4,
 "nbformat_minor": 4
}