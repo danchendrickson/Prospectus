{
 "cells": [
  {
   "cell_type": "markdown",
   "source": [
    "# Look at accelerometer data \n",
    "\n",
    "From Jeep and Focus at various speeds over various potholes and storm drain channels."
   ],
   "metadata": {}
  },
  {
   "cell_type": "code",
   "execution_count": 30,
   "source": [
    "#Standard Header used on the projects\r\n",
    "\r\n",
    "#first the major packages used for math and graphing\r\n",
    "import numpy as np\r\n",
    "import matplotlib.pyplot as plt\r\n",
    "from cycler import cycler\r\n",
    "import scipy.special as sp\r\n",
    "import pandas as pd\r\n",
    "\r\n",
    "#Custome graph format style sheet\r\n",
    "plt.style.use('Prospectus.mplstyle')\r\n",
    "\r\n",
    "#If being run by a seperate file, use the seperate file's graph format and saving paramaeters\r\n",
    "#otherwise set what is needed\r\n",
    "if not 'Saving' in locals():\r\n",
    "    Saving = False\r\n",
    "if not 'Titles' in locals():\r\n",
    "    Titles = True\r\n",
    "if not 'Ledgends' in locals():\r\n",
    "    Ledgends = True\r\n",
    "if not 'FFormat' in locals():\r\n",
    "    FFormat = '.png'\r\n",
    "if not 'location' in locals():\r\n",
    "    #save location.  First one is for running on home PC, second for running on the work laptop.  May need to make a global change\r\n",
    "    #location = 'E:\\\\Documents\\\\Dan\\\\Code\\\\Prospectus\\\\Document\\\\Figures\\\\'\r\n",
    "    #location = 'C:\\\\Users\\\\dhendrickson\\\\Documents\\\\github\\\\FigsAndPlots\\\\FigsAndPlotsDocument\\\\Figures\\\\'\r\n",
    "    location = 'E:\\\\Documents\\\\Dan\\\\Phd\\\\Play\\\\'\r\n",
    "\r\n",
    "#Standard cycle for collors and line styles\r\n",
    "default_cycler = (cycler('color', ['0.00', '0.40', '0.60', '0.70']) + cycler(linestyle=['-', '--', ':', '-.']))\r\n",
    "plt.rc('axes', prop_cycle=default_cycler)"
   ],
   "outputs": [],
   "metadata": {}
  },
  {
   "cell_type": "code",
   "execution_count": 31,
   "source": [
    "#Extra Headers:\r\n",
    "import DWFT as fp\r\n",
    "import os as os\r\n",
    "import pywt as py\r\n",
    "import statistics as st\r\n",
    "import os as os\r\n",
    "import pandas as pd\r\n",
    "import random\r\n",
    "import multiprocessing\r\n",
    "from joblib import Parallel, delayed\r\n",
    "from pywt._extensions._pywt import (DiscreteContinuousWavelet, ContinuousWavelet,\r\n",
    "                                Wavelet, _check_dtype)\r\n",
    "from pywt._functions import integrate_wavelet, scale2frequency\r\n",
    "import time\r\n",
    "\r\n",
    "my_cmap = plt.get_cmap('gray')"
   ],
   "outputs": [],
   "metadata": {}
  },
  {
   "cell_type": "code",
   "execution_count": 32,
   "source": [
    "#DataSet = np.genfromtxt(open('./Data/Jeep SD 10.txt','r'), delimiter=',',skip_header=4)\r\n",
    "Header = np.array(['T', 'X','Y','Z','R','Theta','Phi'])"
   ],
   "outputs": [],
   "metadata": {}
  },
  {
   "cell_type": "code",
   "execution_count": 67,
   "source": [
    "def getAcceleration(FileName):\r\n",
    "    try:\r\n",
    "        DataSet = np.genfromtxt(open(FileName,'r'), delimiter=',',skip_header=0)\r\n",
    "        if FileName[64:69] == 'Accel':\r\n",
    "            return [[FileName[61:],'x',DataSet[:,2]],[FileName[61:],'y',DataSet[:,3]],[FileName[61:],'z',DataSet[:,4]]]\r\n",
    "        else:\r\n",
    "            return [False,FileName,False]\r\n",
    "    except:\r\n",
    "        return [False,FileName,False]\r\n",
    "\r\n",
    "\r\n",
    "def makeStats(DataArray):\r\n",
    "    try:\r\n",
    "        Arange = 50\r\n",
    "        length = np.shape(DataArray[2])[0]\r\n",
    "        StdDev = np.zeros(length)\r\n",
    "        for j in range(length-Arange):\r\n",
    "            k = (length-1)-j\r\n",
    "            DataArray[2][k] = np.average(DataArray[2][k-Arange:k])\r\n",
    "            StdDev[k]=st.stdev(DataArray[2][k-Arange:k])\r\n",
    "        return [DataArray[0],DataArray[1],max(DataArray[2]),max(StdDev)]\r\n",
    "    except:\r\n",
    "        return ['','','','']\r\n"
   ],
   "outputs": [],
   "metadata": {}
  },
  {
   "cell_type": "code",
   "execution_count": 69,
   "source": [
    "num_cores = multiprocessing.cpu_count()\r\n",
    "folder1 = 'C:\\\\Users\\\\Hendrickson\\\\Desktop\\\\Phone Acceleration\\\\'\r\n",
    "folder2 = 'E:\\\\Documents\\\\Dan\\\\PhD\\\\Data Backup\\\\ASC Accel Pi\\\\Excel Versions\\\\'\r\n",
    "\r\n",
    "files = os.listdir(folder2)\r\n",
    "\r\n",
    "GroupSize = 100\r\n",
    "if np.shape(files)[0] < GroupSize:\r\n",
    "    GroupSize = np.shape(files)[0]\r\n",
    "\r\n",
    "Groups = 0\r\n",
    "\r\n",
    "if Groups !=0:\r\n",
    "    files = random.sample(files,GroupSize*Groups-1)\r\n",
    "\r\n",
    "loops = int(float(np.size(files))/float(GroupSize))+1\r\n",
    "\r\n",
    "start = time.time()\r\n",
    "\r\n",
    "if __name__ == \"__main__\":\r\n",
    "    AllEvents=[]\r\n",
    "    Fails = []\r\n",
    "    for i in range(loops):\r\n",
    "        \r\n",
    "        AllAccels = Parallel(n_jobs=num_cores)(delayed(getAcceleration)(folder2+file) for file in files[i*GroupSize:((i+1)*GroupSize)])\r\n",
    "        Flattened = []\r\n",
    "        for j in range(np.shape(AllAccels)[0]):\r\n",
    "            if AllAccels[j][0] == False :\r\n",
    "                if AllAccels[j][1][4:9] =='Accel':\r\n",
    "                    print(j,AllAccels[j][1])\r\n",
    "            else: \r\n",
    "                for k in range(3):\r\n",
    "                    Flattened.append(AllAccels[j][k])\r\n",
    "        Events =  Parallel(n_jobs=num_cores)(delayed(makeStats)(DataArrays) for DataArrays in Flattened)\r\n",
    "        Events = np.matrix(Events)\r\n",
    "        if AllEvents ==[]:\r\n",
    "            AllEvents=Events\r\n",
    "        else:\r\n",
    "            try:\r\n",
    "                AllEvents=np.concatenate((AllEvents,Events), axis=0)\r\n",
    "            except:\r\n",
    "                Fails.append(Events)\r\n",
    "        print(str(i+1)+' of '+str(loops),'Time: '+ str((time.time()-start)/60.0)\r\n",
    "    \r\n",
    "    df = pd.DataFrame(data=AllEvents)\r\n",
    "    df.to_csv(folder1 + 'StatisticsReport.csv', sep=',', index = False, header=False,quotechar='\"')\r\n",
    "    "
   ],
   "outputs": [
    {
     "output_type": "stream",
     "name": "stderr",
     "text": [
      "C:\\ProgramData\\Anaconda3\\lib\\site-packages\\numpy\\core\\_asarray.py:102: VisibleDeprecationWarning: Creating an ndarray from ragged nested sequences (which is a list-or-tuple of lists-or-tuples-or ndarrays with different lengths or shapes) is deprecated. If you meant to do this, you must specify 'dtype=object' when creating the ndarray.\n",
      "  return array(a, dtype, copy=False, order=order)\n"
     ]
    },
    {
     "output_type": "stream",
     "name": "stdout",
     "text": [
      "1 of 106 Time: 805.6636002063751\n"
     ]
    },
    {
     "output_type": "stream",
     "name": "stderr",
     "text": [
      "<ipython-input-69-8a6981f53ca9>:35: FutureWarning: elementwise comparison failed; returning scalar instead, but in the future will perform elementwise comparison\n",
      "  if AllEvents ==[]:\n"
     ]
    },
    {
     "output_type": "stream",
     "name": "stdout",
     "text": [
      "2 of 106 Time: 1600.6312386989594\n",
      "3 of 106 Time: 2396.5817952156067\n",
      "4 of 106 Time: 3176.479558467865\n",
      "5 of 106 Time: 3916.6987178325653\n",
      "6 of 106 Time: 4651.839956045151\n",
      "7 of 106 Time: 5393.321054697037\n",
      "8 of 106 Time: 6127.219865560532\n",
      "9 of 106 Time: 6864.934458971024\n",
      "10 of 106 Time: 7618.516926765442\n",
      "11 of 106 Time: 8372.413165807724\n",
      "12 of 106 Time: 9125.594431877136\n",
      "13 of 106 Time: 9870.065009832382\n",
      "14 of 106 Time: 10613.322235107422\n",
      "15 of 106 Time: 11345.983893871307\n",
      "16 of 106 Time: 12074.766716003418\n",
      "17 of 106 Time: 12807.474309206009\n",
      "18 of 106 Time: 13541.284442186356\n",
      "19 of 106 Time: 14242.298098564148\n",
      "20 of 106 Time: 14878.978951454163\n",
      "21 of 106 Time: 15531.3277425766\n",
      "22 of 106 Time: 16168.520679950714\n",
      "23 of 106 Time: 16752.761197566986\n",
      "24 of 106 Time: 17430.499291419983\n",
      "25 of 106 Time: 18074.444829702377\n",
      "26 of 106 Time: 18717.142404317856\n",
      "27 of 106 Time: 19361.438214302063\n",
      "28 of 106 Time: 20029.4757707119\n",
      "29 of 106 Time: 20634.04751086235\n",
      "30 of 106 Time: 21348.219999551773\n",
      "31 of 106 Time: 22043.55513358116\n",
      "32 of 106 Time: 22771.199572324753\n",
      "33 of 106 Time: 23509.56797671318\n",
      "34 of 106 Time: 24252.09067606926\n",
      "35 of 106 Time: 25000.91561102867\n",
      "36 of 106 Time: 25748.617789268494\n",
      "37 of 106 Time: 26498.539044380188\n",
      "38 of 106 Time: 27246.996999025345\n",
      "39 of 106 Time: 28003.31818962097\n",
      "40 of 106 Time: 28768.249963760376\n",
      "41 of 106 Time: 29529.92040848732\n",
      "42 of 106 Time: 30276.491243124008\n",
      "43 of 106 Time: 31010.48181128502\n",
      "44 of 106 Time: 31747.653351783752\n",
      "45 of 106 Time: 32483.914522647858\n",
      "46 of 106 Time: 33227.20376801491\n",
      "47 of 106 Time: 33965.419310331345\n",
      "48 of 106 Time: 34703.608070611954\n",
      "49 of 106 Time: 35448.69454240799\n",
      "50 of 106 Time: 36185.32981920242\n",
      "51 of 106 Time: 36923.57233285904\n",
      "52 of 106 Time: 37661.313556432724\n",
      "53 of 106 Time: 38115.52899456024\n"
     ]
    },
    {
     "output_type": "error",
     "ename": "ValueError",
     "evalue": "all the input array dimensions for the concatenation axis must match exactly, but along dimension 1, the array at index 0 has size 4 and the array at index 1 has size 0",
     "traceback": [
      "\u001b[1;31m---------------------------------------------------------------------------\u001b[0m",
      "\u001b[1;31mValueError\u001b[0m                                Traceback (most recent call last)",
      "\u001b[1;32m<ipython-input-69-8a6981f53ca9>\u001b[0m in \u001b[0;36m<module>\u001b[1;34m\u001b[0m\n\u001b[0;32m     36\u001b[0m             \u001b[0mAllEvents\u001b[0m\u001b[1;33m=\u001b[0m\u001b[0mEvents\u001b[0m\u001b[1;33m\u001b[0m\u001b[1;33m\u001b[0m\u001b[0m\n\u001b[0;32m     37\u001b[0m         \u001b[1;32melse\u001b[0m\u001b[1;33m:\u001b[0m\u001b[1;33m\u001b[0m\u001b[1;33m\u001b[0m\u001b[0m\n\u001b[1;32m---> 38\u001b[1;33m             \u001b[0mAllEvents\u001b[0m\u001b[1;33m=\u001b[0m\u001b[0mnp\u001b[0m\u001b[1;33m.\u001b[0m\u001b[0mconcatenate\u001b[0m\u001b[1;33m(\u001b[0m\u001b[1;33m(\u001b[0m\u001b[0mAllEvents\u001b[0m\u001b[1;33m,\u001b[0m\u001b[0mEvents\u001b[0m\u001b[1;33m)\u001b[0m\u001b[1;33m,\u001b[0m \u001b[0maxis\u001b[0m\u001b[1;33m=\u001b[0m\u001b[1;36m0\u001b[0m\u001b[1;33m)\u001b[0m\u001b[1;33m\u001b[0m\u001b[1;33m\u001b[0m\u001b[0m\n\u001b[0m\u001b[0;32m     39\u001b[0m         \u001b[0mprint\u001b[0m\u001b[1;33m(\u001b[0m\u001b[0mstr\u001b[0m\u001b[1;33m(\u001b[0m\u001b[0mi\u001b[0m\u001b[1;33m+\u001b[0m\u001b[1;36m1\u001b[0m\u001b[1;33m)\u001b[0m\u001b[1;33m+\u001b[0m\u001b[1;34m' of '\u001b[0m\u001b[1;33m+\u001b[0m\u001b[0mstr\u001b[0m\u001b[1;33m(\u001b[0m\u001b[0mloops\u001b[0m\u001b[1;33m)\u001b[0m\u001b[1;33m,\u001b[0m\u001b[1;34m'Time: '\u001b[0m\u001b[1;33m+\u001b[0m \u001b[0mstr\u001b[0m\u001b[1;33m(\u001b[0m\u001b[0mtime\u001b[0m\u001b[1;33m.\u001b[0m\u001b[0mtime\u001b[0m\u001b[1;33m(\u001b[0m\u001b[1;33m)\u001b[0m\u001b[1;33m-\u001b[0m\u001b[0mstart\u001b[0m\u001b[1;33m)\u001b[0m\u001b[1;33m)\u001b[0m\u001b[1;33m\u001b[0m\u001b[1;33m\u001b[0m\u001b[0m\n\u001b[0;32m     40\u001b[0m \u001b[1;33m\u001b[0m\u001b[0m\n",
      "\u001b[1;32m<__array_function__ internals>\u001b[0m in \u001b[0;36mconcatenate\u001b[1;34m(*args, **kwargs)\u001b[0m\n",
      "\u001b[1;31mValueError\u001b[0m: all the input array dimensions for the concatenation axis must match exactly, but along dimension 1, the array at index 0 has size 4 and the array at index 1 has size 0"
     ]
    }
   ],
   "metadata": {}
  },
  {
   "cell_type": "code",
   "execution_count": 70,
   "source": [
    "df = pd.DataFrame(data=AllEvents)\r\n",
    "df.to_csv(folder1 + 'StatisticsReport.csv', sep=',', index = False, header=False,quotechar='\"')"
   ],
   "outputs": [],
   "metadata": {}
  }
 ],
 "metadata": {
  "kernelspec": {
   "name": "python3",
   "display_name": "Python 3.8.10 64-bit ('base': conda)"
  },
  "language_info": {
   "codemirror_mode": {
    "name": "ipython",
    "version": 3
   },
   "file_extension": ".py",
   "mimetype": "text/x-python",
   "name": "python",
   "nbconvert_exporter": "python",
   "pygments_lexer": "ipython3",
   "version": "3.8.10"
  },
  "interpreter": {
   "hash": "b3ba2566441a7c06988d0923437866b63cedc61552a5af99d1f4fb67d367b25f"
  }
 },
 "nbformat": 4,
 "nbformat_minor": 4
}