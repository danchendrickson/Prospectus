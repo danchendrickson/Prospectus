{
 "cells": [
  {
   "cell_type": "code",
   "execution_count": 93,
   "source": [
    "#Standard Header used on the projects\r\n",
    "\r\n",
    "#first the major packages used for math and graphing\r\n",
    "import numpy as np\r\n",
    "import matplotlib.pyplot as plt\r\n",
    "from cycler import cycler\r\n",
    "import scipy.special as sp\r\n",
    "\r\n",
    "#Custome graph format style sheet\r\n",
    "plt.style.use('Prospectus.mplstyle')\r\n",
    "\r\n",
    "#If being run by a seperate file, use the seperate file's graph format and saving paramaeters\r\n",
    "#otherwise set what is needed\r\n",
    "if not 'Saving' in locals():\r\n",
    "    Saving = False\r\n",
    "if not 'Titles' in locals():\r\n",
    "    Titles = True\r\n",
    "if not 'Ledgends' in locals():\r\n",
    "    Ledgends = True\r\n",
    "if not 'FFormat' in locals():\r\n",
    "    FFormat = '.eps'\r\n",
    "if not 'location' in locals():\r\n",
    "    #save location.  First one is for running on home PC, second for running on the work laptop.  May need to make a global change\r\n",
    "    location = 'E:\\\\Documents\\\\Dan\\\\Code\\\\FigsAndPlots\\\\FigsAndPlotsDocument\\\\Figures\\\\'\r\n",
    "    #location = 'C:\\\\Users\\\\dhendrickson\\\\Documents\\\\github\\\\FigsAndPlots\\\\FigsAndPlotsDocument\\\\Figures\\\\'\r\n",
    "\r\n",
    "\r\n",
    "#Standard cycle for collors and line styles\r\n",
    "default_cycler = (cycler('color', ['0.00', '0.40', '0.60', '0.70']) + cycler(linestyle=['-', '--', ':', '-.']))\r\n",
    "plt.rc('axes', prop_cycle=default_cycler)"
   ],
   "outputs": [],
   "metadata": {}
  },
  {
   "cell_type": "code",
   "execution_count": 94,
   "source": [
    "#Project Specific packages:\r\n",
    "import zipfile\r\n",
    "import DWFT as fp\r\n",
    "import os as os\r\n",
    "import pywt as py\r\n",
    "import pandas as pd\r\n",
    "import asyncio\r\n",
    "\r\n",
    "import concurrent.futures\r\n",
    "\r\n",
    "my_cmap = plt.get_cmap('gray')"
   ],
   "outputs": [],
   "metadata": {}
  },
  {
   "cell_type": "markdown",
   "source": [
    "def PlotFingerPrint(FpScat, xName, title='', FP='mexh'):\r\n",
    "    \r\n",
    "    #FpScat = fp.getLabeledThumbprint(data, FP)\r\n",
    "    FpScat = np.matrix(FpScat)\r\n",
    "    \r\n",
    "    Al,Ms  = np.meshgrid(xName,np.linspace(1,50,50))\r\n",
    "\r\n",
    "    fig1 = plt.figure(figsize=(6.67,3.75))\r\n",
    "    ax1 = plt.axes()\r\n",
    "    cs1 = ax1.contourf(Al,Ms, FpScat,cmap=my_cmap,levels=10)\r\n",
    "\r\n",
    "    if Titles: plt.title(title)\r\n",
    "    if Saving: plt.savefig(location+title.replace(\" \", \"\").replace(\":\", \"\").replace(\",\", \"\").replace(\".txt\",\"\")+FFormat)\r\n",
    "\r\n",
    "    plt.show()"
   ],
   "metadata": {}
  },
  {
   "cell_type": "markdown",
   "source": [
    "Directory = \"E:\\\\Documents\\\\Dan\\\\PhD\\\\Play\\\\ASC\\\\\"\r\n",
    "files = os.listdir(Directory)\r\n",
    "Dots = 1000\r\n",
    "Start = 2615\r\n",
    "\r\n",
    "for Filename in files:\r\n",
    "    print(Filename[-3:])\r\n",
    "    if Filename[-3:] == 'csv':\r\n",
    "        Results = []\r\n",
    "        DataSet = np.genfromtxt(open(Directory+'/'+Filename,'r'), delimiter=',',skip_header=4)\r\n",
    "        #plt.plot(DataSet[:,0],DataSet[:,1], label = 'X')\r\n",
    "        #plt.plot(DataSet[:,0],DataSet[:,2], label = 'Y')\r\n",
    "        for j in range(Dots):\r\n",
    "            i = j + Start\r\n",
    "            Results.append([DataSet[i,1],np.sqrt(DataSet[i,2]**2+DataSet[i,3]**2+DataSet[i,4]**2)])\r\n",
    "        Results = np.matrix(Results)\r\n",
    "        plt.plot(Results[:,0],Results[:,1], label = 'R')\r\n",
    "\r\n",
    "        title = Filename + 'R-'\r\n",
    "        if Ledgends: plt.legend()\r\n",
    "        if Titles: plt.title(title)\r\n",
    "        if Saving: plt.savefig(location+title.replace(\" \", \"\").replace(\":\", \"\").replace(\",\", \"\")+FFormat)\r\n",
    "        plt.show()\r\n",
    "        PlotFingerPrint(np.ravel(Results[:,1]),Results[:,0],title)"
   ],
   "metadata": {}
  },
  {
   "cell_type": "code",
   "execution_count": 95,
   "source": [
    "#DataSet = np.genfromtxt(open(\"E:\\\\Documents\\\\Dan\\\\PhD\\\\Play\\\\ASC\\\\60kPoints-210709-1026.csv\",'r'), delimiter=',',skip_header=4)\r\n",
    "#DataSet = np.genfromtxt(open(\"C:\\\\Users\\\\dhendrickson\\\\Pone Drive\\\\OneDrive - The Port of Virginia\\\\Shared with Everyone\\\\60kAccel-210713-1700.csv\",'r'), delimiter=',',skip_header=4)\r\n",
    "#folder = \"C:\\\\Users\\\\hendrickson\\\\Desktop\\\\temp\\\\\"\r\n",
    "#folder = \"g:\\\\\"\r\n",
    "folder = \"g:\\\\Excel Versions\\\\\"\r\n"
   ],
   "outputs": [],
   "metadata": {}
  },
  {
   "cell_type": "markdown",
   "source": [
    "Results = []\r\n",
    "for i in range(np.shape(DataSet)[0]):\r\n",
    "    c = DataSet[i,1]\r\n",
    "    x = DataSet[i,2]\r\n",
    "    y = DataSet[i,3]\r\n",
    "    z = DataSet[i,4]\r\n",
    "    r = np.sqrt(x**2 + y**2 + z**2)\r\n",
    "    t = np.arccos(z / r)\r\n",
    "    p = np.arctan(y / x)\r\n",
    "    Results.append([c,x,y,z,r,t,p])\r\n",
    "Results = np.matrix(Results)\r\n",
    "\r\n",
    "Names = ['Time',\r\n",
    "         'x',\r\n",
    "         'y',\r\n",
    "         'z',\r\n",
    "         'r',\r\n",
    "         'theta',\r\n",
    "         'phi']\r\n",
    "\r\n",
    "StdDev = [  np.std(Results[:,1]),\r\n",
    "            np.std(Results[:,2]),\r\n",
    "            np.std(Results[:,3]),\r\n",
    "            np.std(Results[:,4]),\r\n",
    "            np.std(Results[:,5]),\r\n",
    "            np.std(Results[:,6])]"
   ],
   "metadata": {}
  },
  {
   "cell_type": "markdown",
   "source": [
    "BlockSize = 500\r\n",
    "\r\n",
    "for i in range(int(np.shape(DataSet)[0]/BlockSize)):\r\n",
    "    Start = i * BlockSize\r\n",
    "    End = Start + BlockSize\r\n",
    "\r\n",
    "    LocalStdDev = [ np.std(Results[Start:End,1]),\r\n",
    "                    np.std(Results[Start:End,2]),\r\n",
    "                    np.std(Results[Start:End,3]),\r\n",
    "                    np.std(Results[Start:End,4]),\r\n",
    "                    np.std(Results[Start:End,5]),\r\n",
    "                    np.std(Results[Start:End,6])]\r\n",
    "    \r\n",
    "    for k in range(6):\r\n",
    "        \r\n",
    "        if np.abs((LocalStdDev[k])/StdDev[k]) > 2:\r\n",
    "            plt.plot(Results[Start:End,0],Results[Start:End,k], label = Names[k])\r\n",
    "\r\n",
    "            title = Names[k] + ' starting at step ' + str(i * BlockSize)\r\n",
    "            if Ledgends: plt.legend()\r\n",
    "            if Titles: plt.title(title)\r\n",
    "            if Saving: plt.savefig(location+title.replace(\" \", \"\").replace(\":\", \"\").replace(\",\", \"\")+FFormat)\r\n",
    "            plt.show()\r\n",
    "            PlotFingerPrint(np.ravel(Results[Start:End,k]),Results[Start:End,0],title)\r\n"
   ],
   "metadata": {}
  },
  {
   "cell_type": "code",
   "execution_count": 96,
   "source": [
    "import random\r\n",
    "import multiprocessing\r\n",
    "from joblib import Parallel, delayed\r\n",
    "import tictoc as tt"
   ],
   "outputs": [],
   "metadata": {}
  },
  {
   "cell_type": "code",
   "execution_count": 97,
   "source": [
    "def getAcceleration(FileName):\r\n",
    "    DataSet = np.genfromtxt(open(folder+FileName,'r'), delimiter=',',skip_header=4)\r\n",
    "    print(FileName)\r\n",
    "    return [[FileName,'x',DataSet[:,2]],[FileName,'y',DataSet[:,3]],[FileName,'z',DataSet[:,4]]]\r\n",
    "\r\n",
    "def makePrints(DataArray):\r\n",
    "    FingerPrint = fp.getLabeledThumbprint(DataArray[2],'gaus2')\r\n",
    "    return [DataArray[0],DataArray[1],FingerPrint]\r\n",
    "\r\n",
    "def getResults(FPnMd):\r\n",
    "    Results = []\r\n",
    "    Ridges = fp.RidgeCount(FPnMd[2][:,500:59500])\r\n",
    "    return [FPnMd[0],FPnMd[1],Ridges]\r\n",
    "\r\n",
    "def CountAboveThreshold(Ridges, Threshold = 10):\r\n",
    "    Cnum = np.count_nonzero(Ridges[2] >= Threshold)\r\n",
    "    return [Ridges[0],Ridges[1],Cnum]\r\n"
   ],
   "outputs": [],
   "metadata": {}
  },
  {
   "cell_type": "code",
   "execution_count": 99,
   "source": [
    "num_cores = multiprocessing.cpu_count() - 1\r\n",
    "files = os.listdir(folder)\r\n",
    "files = random.sample(files,200)\r\n",
    "\r\n",
    "if __name__ == \"__main__\":\r\n",
    "    tt.tic()\r\n",
    "    AllAccels = Parallel(n_jobs=num_cores)(delayed(getAcceleration)(file) for file in files)\r\n",
    "    print('open files', tt.toc())\r\n",
    "    Flattened = []\r\n",
    "    for i in range(np.shape(AllAccels)[0]):\r\n",
    "        for j in range(3):\r\n",
    "            #print(AllAccels[i][j][0])\r\n",
    "            Flattened.append(AllAccels[i][j])\r\n",
    "    print('sort',tt.toc())\r\n",
    "    AllFingers =  Parallel(n_jobs=num_cores)(delayed(makePrints)(datas) for datas in Flattened)\r\n",
    "    print('Fingerprints',tt.toc())\r\n",
    "    AllRidges = Parallel(n_jobs=num_cores)(delayed(getResults)(datas) for datas in AllFingers)\r\n",
    "    print('ridge counts',tt.toc())\r\n",
    "    Events = Parallel(n_jobs=num_cores)(delayed(CountAboveThreshold)(datas) for datas in AllRidges)\r\n",
    "    print('events',tt.toc())\r\n"
   ],
   "outputs": [
    {
     "output_type": "stream",
     "name": "stdout",
     "text": [
      "open files 0.8561878204345703\n",
      "sort 0.0010287761688232422\n"
     ]
    },
    {
     "output_type": "stream",
     "name": "stderr",
     "text": [
      "C:\\ProgramData\\Anaconda3\\lib\\site-packages\\numpy\\core\\_asarray.py:102: VisibleDeprecationWarning: Creating an ndarray from ragged nested sequences (which is a list-or-tuple of lists-or-tuples-or ndarrays with different lengths or shapes) is deprecated. If you meant to do this, you must specify 'dtype=object' when creating the ndarray.\n",
      "  return array(a, dtype, copy=False, order=order)\n"
     ]
    },
    {
     "output_type": "stream",
     "name": "stdout",
     "text": [
      "Fingerprints 1166.150011062622\n",
      "ridge counts 1.5762901306152344\n",
      "events 0.025905609130859375\n"
     ]
    }
   ],
   "metadata": {}
  },
  {
   "cell_type": "code",
   "execution_count": 100,
   "source": [
    "Events = np.matrix(Events)\r\n",
    "\r\n",
    "df = pd.DataFrame(data=Events)\r\n",
    "df.to_csv('G:\\\\Random Check.csv', sep=',', index = False, header=False,quotechar='\"')"
   ],
   "outputs": [],
   "metadata": {}
  }
 ],
 "metadata": {
  "interpreter": {
   "hash": "b3ba2566441a7c06988d0923437866b63cedc61552a5af99d1f4fb67d367b25f"
  },
  "kernelspec": {
   "name": "python3",
   "display_name": "Python 3.8.10 64-bit ('base': conda)"
  },
  "language_info": {
   "codemirror_mode": {
    "name": "ipython",
    "version": 3
   },
   "file_extension": ".py",
   "mimetype": "text/x-python",
   "name": "python",
   "nbconvert_exporter": "python",
   "pygments_lexer": "ipython3",
   "version": "3.8.10"
  },
  "orig_nbformat": 4
 },
 "nbformat": 4,
 "nbformat_minor": 2
}