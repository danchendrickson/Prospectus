{
 "cells": [
  {
   "cell_type": "code",
   "execution_count": 1,
   "metadata": {},
   "outputs": [],
   "source": [
    "#Standard Header used on the projects\n",
    "\n",
    "#first the major packages used for math and graphing\n",
    "import numpy as np\n",
    "import matplotlib.pyplot as plt\n",
    "from cycler import cycler\n",
    "import scipy.special as sp\n",
    "\n",
    "#Custome graph format style sheet\n",
    "plt.style.use('Prospectus.mplstyle')\n",
    "\n",
    "#If being run by a seperate file, use the seperate file's graph format and saving paramaeters\n",
    "#otherwise set what is needed\n",
    "if not 'Saving' in locals():\n",
    "    Saving = True\n",
    "if not 'Titles' in locals():\n",
    "    Titles = False\n",
    "if not 'Ledgends' in locals():\n",
    "    Ledgends = True\n",
    "if not 'FFormat' in locals():\n",
    "    FFormat = '.eps'\n",
    "if not 'location' in locals():\n",
    "    #save location.  First one is for running on home PC, second for running on the work laptop.  May need to make a global change\n",
    "    location = 'E:\\\\Documents\\\\Dan\\\\Code\\\\FigsAndPlots\\\\FigsAndPlotsDocument\\\\Figures\\\\'\n",
    "    #location = 'C:\\\\Users\\\\dhendrickson\\\\Documents\\\\github\\\\FigsAndPlots\\\\FigsAndPlotsDocument\\\\Figures\\\\'\n",
    "\n",
    "\n",
    "#Standard cycle for collors and line styles\n",
    "default_cycler = (cycler('color', ['0.00', '0.40', '0.60', '0.70']) + cycler(linestyle=['-', '--', ':', '-.']))\n",
    "plt.rc('axes', prop_cycle=default_cycler)"
   ]
  },
  {
   "cell_type": "code",
   "execution_count": null,
   "metadata": {},
   "outputs": [],
   "source": [
    "# set Constants:\r\n",
    "runtime = 2.0\r\n",
    "mu = 456        #First Lame Parameter\r\n",
    "lmbda = 567     #second Lame Parameter\r\n",
    "rho = 123       #density\r\n",
    "\r\n",
    "cl = np.sqrt((lmbda + 2* mu)/rho)\r\n",
    "ct = np.sqrt(mu/rho)\r\n",
    "\r\n",
    "frequency = 100000\r\n",
    "\r\n",
    "omegal = cl * frequency\r\n",
    "omegat = ct * frequency\r\n",
    "\r\n",
    "BeamLength = 1\r\n",
    "BeamHeight = 0.142875\r\n",
    "BeamWidth = 0.0635"
   ]
  },
  {
   "cell_type": "code",
   "execution_count": null,
   "metadata": {},
   "outputs": [],
   "source": [
    "#Code Parameters:\r\n",
    "ts = 1 / frequency / 10    #time step\r\n",
    "gs = np.min(omegal, omegat) / 10    #grid step\r\n",
    "\r\n",
    "Tsteps = runtime / ts + 1       #total Time STeps\r\n",
    "\r\n",
    "gl = BeamLength / gs        #number of grid points\r\n",
    "gh = BeamHeight / gs\r\n",
    "gw = BeamLength / gs\r\n",
    "\r\n"
   ]
  },
  {
   "cell_type": "code",
   "execution_count": null,
   "metadata": {},
   "outputs": [],
   "source": [
    "#initialize grids to solve\r\n",
    "\r\n",
    "#Start with Density, with initial value rho at all grid locations\r\n",
    "gDensity = np.zeros(gl,gh,gw,Tsteps)\r\n",
    "gDensity[:,:,:,0] = rho\r\n",
    "\r\n",
    "#Velocity with first elemement the 3 dimissions, X, Y, Z\r\n",
    "gVelocity = np.zeros(3, gl,gh,gw,Tsteps)\r\n",
    "\r\n"
   ]
  }
 ],
 "metadata": {
  "kernelspec": {
   "display_name": "Python 3.8.3 64-bit ('base': conda)",
   "name": "python383jvsc74a57bd0b3ba2566441a7c06988d0923437866b63cedc61552a5af99d1f4fb67d367b25f"
  },
  "language_info": {
   "codemirror_mode": {
    "name": "ipython",
    "version": 3
   },
   "file_extension": ".py",
   "mimetype": "text/x-python",
   "name": "python",
   "nbconvert_exporter": "python",
   "pygments_lexer": "ipython3",
   "version": "3.8.3"
  }
 },
 "nbformat": 4,
 "nbformat_minor": 4
}