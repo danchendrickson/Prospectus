{
 "cells": [
  {
   "cell_type": "code",
   "execution_count": 26,
   "metadata": {},
   "outputs": [],
   "source": [
    "#Standard Header used on the projects\r\n",
    "\r\n",
    "#first the major packages used for math and graphing\r\n",
    "import numpy as np\r\n",
    "import matplotlib.pyplot as plt\r\n",
    "from cycler import cycler\r\n",
    "import scipy.special as sp\r\n",
    "import math\r\n",
    "\r\n",
    "#Custome graph format style sheet\r\n",
    "plt.style.use('Prospectus.mplstyle')\r\n",
    "\r\n",
    "#If being run by a seperate file, use the seperate file's graph format and saving paramaeters\r\n",
    "#otherwise set what is needed\r\n",
    "if not 'Saving' in locals():\r\n",
    "    Saving = True\r\n",
    "if not 'Titles' in locals():\r\n",
    "    Titles = False\r\n",
    "if not 'Ledgends' in locals():\r\n",
    "    Ledgends = True\r\n",
    "if not 'FFormat' in locals():\r\n",
    "    FFormat = '.eps'\r\n",
    "if not 'location' in locals():\r\n",
    "    #save location.  First one is for running on home PC, second for running on the work laptop.  May need to make a global change\r\n",
    "    location = 'E:\\\\Documents\\\\Dan\\\\Code\\\\FigsAndPlots\\\\FigsAndPlotsDocument\\\\Figures\\\\'\r\n",
    "    #location = 'C:\\\\Users\\\\dhendrickson\\\\Documents\\\\github\\\\FigsAndPlots\\\\FigsAndPlotsDocument\\\\Figures\\\\'\r\n",
    "\r\n",
    "\r\n",
    "#Standard cycle for collors and line styles\r\n",
    "default_cycler = (cycler('color', ['0.00', '0.40', '0.60', '0.70']) + cycler(linestyle=['-', '--', ':', '-.']))\r\n",
    "plt.rc('axes', prop_cycle=default_cycler)"
   ]
  },
  {
   "cell_type": "code",
   "execution_count": 37,
   "metadata": {},
   "outputs": [],
   "source": [
    "# set Constants:\r\n",
    "runtime = 2.0\r\n",
    "PoissonRatio = 0.3\r\n",
    "YoungModulus = 20 * (10**9)\r\n",
    "mu = 80 * (10**9)         #First Lame Parameter\r\n",
    "lmbda = 2 * mu * PoissonRatio / (1 - 2 * PoissonRatio)     #second Lame Parameter\r\n",
    "rho = 7800       #density\r\n",
    "\r\n",
    "cl = np.sqrt((lmbda + 2* mu)/rho)\r\n",
    "ct = np.sqrt(mu/rho)\r\n",
    "\r\n",
    "frequency = 100000\r\n",
    "\r\n",
    "omegal = cl / frequency\r\n",
    "omegat = ct / frequency\r\n",
    "\r\n",
    "BeamLength = 0.5\r\n",
    "BeamHeight = 0.1524\r\n",
    "BeamWidth = 0.10986"
   ]
  },
  {
   "cell_type": "markdown",
   "metadata": {},
   "source": [
    "Rail Properties:\r\n",
    "https://railroadrails.com/railroad-rail-specification/\r\n",
    "Using 175LBS Rail baseline\r\n",
    "\r\n",
    "Steel Propoerties:\r\n",
    "https://www.jsg.utexas.edu/tyzhu/files/Some-Useful-Numbers.pdf\r\n",
    "\r\n",
    "relation between properties na dparameters:\r\n",
    "https://en.wikipedia.org/wiki/Lam%C3%A9_parameters\r\n"
   ]
  },
  {
   "cell_type": "code",
   "execution_count": 38,
   "metadata": {},
   "outputs": [],
   "source": [
    "#Code Parameters:\r\n",
    "ts = 1 / frequency / 10    #time step\r\n",
    "gs = min(omegal, omegat) / 10    #grid step\r\n",
    "\r\n",
    "Tsteps = int(math.ceil(runtime / ts)) + 1       #total Time STeps\r\n",
    "\r\n",
    "gl = int(math.ceil(BeamLength / gs))        #number of grid points\r\n",
    "gh = int(math.ceil(BeamHeight / gs))\r\n",
    "gw = int(math.ceil(BeamLength / gs))\r\n",
    "\r\n"
   ]
  },
  {
   "cell_type": "code",
   "execution_count": 41,
   "metadata": {},
   "outputs": [],
   "source": [
    "#initialize grids to solve\r\n",
    "GridShapeP = (gl,gh,gw,4)\r\n",
    "GridShapeV = (3,gl,gh,gw,4)\r\n",
    "GridShapeS = (3,3,gl,gh,gw,4)\r\n",
    "GridPoints = gl*gh*gw*4\r\n",
    "\r\n",
    "#Start with Density, with initial value rho at all grid locations\r\n",
    "gDensity = np.zeros(GridPoints,dtype=\"float32\").reshape(*GridShapeP)\r\n",
    "gDensity[:,:,:,0] = rho\r\n",
    "\r\n",
    "#Velocity with first elemement the 3 dimissions, X, Y, Z\r\n",
    "gVelocity = np.zeros(3*GridPoints,dtype=\"float32\").reshape(*GridShapeV)\r\n",
    "gStresses = np.zeros(3*3*GridPoints,dtype=\"float32\").reshape(*GridShapeS)\r\n",
    "\r\n",
    "CCResultsShape = (gl,gh,math.ceil(Tsteps / 10))\r\n",
    "CCResultsPoints = gl*gh*math.ceil(Tsteps / 10)\r\n",
    "CrossSectionResults = np.zeros(CCResultsPoints,dtype=\"float32\").reshape(*CCResultsShape)\r\n"
   ]
  },
  {
   "cell_type": "code",
   "execution_count": null,
   "metadata": {},
   "outputs": [],
   "source": [
    "import zipfile\r\n",
    "zip_file = zipfile.ZipFile('temp.zip', 'w')\r\n",
    "zip_file.write('temp.txt', compress_type=zipfile.ZIP_DEFLATED)\r\n",
    "zip_file.close()"
   ]
  }
 ],
 "metadata": {
  "interpreter": {
   "hash": "b3ba2566441a7c06988d0923437866b63cedc61552a5af99d1f4fb67d367b25f"
  },
  "kernelspec": {
   "display_name": "Python 3.8.10 64-bit ('base': conda)",
   "name": "python3"
  },
  "language_info": {
   "name": "python",
   "version": ""
  }
 },
 "nbformat": 4,
 "nbformat_minor": 4
}